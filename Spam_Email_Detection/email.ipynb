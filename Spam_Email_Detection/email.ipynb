{
 "cells": [
  {
   "cell_type": "code",
   "execution_count": 4,
   "metadata": {},
   "outputs": [],
   "source": [
    "import sys\n",
    "import numpy as np\n",
    "import pandas as pd\n",
    "from sklearn.model_selection import train_test_split\n",
    "from sklearn.feature_extraction.text import TfidfVectorizer\n",
    "from sklearn.linear_model import LogisticRegression\n",
    "from sklearn.feature_extraction.text import CountVectorizer\n",
    "from sklearn.naive_bayes import MultinomialNB\n",
    "from sklearn.metrics import accuracy_score\n"
   ]
  },
  {
   "cell_type": "code",
   "execution_count": 7,
   "metadata": {},
   "outputs": [],
   "source": [
    "def main(argv):\n",
    "    if((len(argv) == 1) and (argv[0] == \"LR\" or argv[0] == \"NB\")):\n",
    "        # loading the data \n",
    "        raw_mail_data = pd.read_csv(\"./Spam_Email_Detection/data/mail_data.csv\")\n",
    "\n",
    "        # replace the null values with a null string\n",
    "        mail_data = raw_mail_data.where((pd.notnull(raw_mail_data)), '')\n",
    "\n",
    "        # label spam mail as 0;  ham mail as 1;\n",
    "        mail_data.loc[mail_data['Category'] == 'spam', 'Category', ] = 0\n",
    "        mail_data.loc[mail_data['Category'] == 'ham', 'Category', ] = 1\n",
    "\n",
    "        # separating the data as texts and label\n",
    "        X = mail_data['Message']\n",
    "        Y = mail_data['Category']\n",
    "\n",
    "        X_train, X_test, Y_train, Y_test = train_test_split(\n",
    "            X, Y, test_size=0.2, random_state=3)\n",
    "\n",
    "        # transform the text data to feature vectors that can be used as input to the model\n",
    "        if (argv[0] == \"LR\"):\n",
    "            feature_extraction = TfidfVectorizer(\n",
    "                min_df=1, stop_words='english', lowercase='True')\n",
    "        elif (argv[0] == \"NB\"):\n",
    "            feature_extraction = CountVectorizer(\n",
    "                min_df=1, stop_words='english', lowercase='True')\n",
    "\n",
    "        X_train_features = feature_extraction.fit_transform(X_train)\n",
    "        X_test_features = feature_extraction.transform(X_test)\n",
    "\n",
    "        # convert Y_train and Y_test values as integers\n",
    "        Y_train = Y_train.astype('int')\n",
    "        Y_test = Y_test.astype('int')\n",
    "\n",
    "        if (argv[0] == \"LR\"):\n",
    "            model = LogisticRegression()\n",
    "            print(\"Using Logistic Regression\")\n",
    "        elif (argv[0] == \"NB\"):\n",
    "            model = MultinomialNB()\n",
    "            print(\"Using Naive Bayes\")\n",
    "\n",
    "        # training the model with the training data\n",
    "        model.fit(X_train_features, Y_train)\n",
    "\n",
    "        # prediction on training data\n",
    "        prediction_on_training_data = model.predict(X_train_features)\n",
    "        accuracy_on_training_data = accuracy_score(\n",
    "            Y_train, prediction_on_training_data)\n",
    "        print('Accuracy on training data : ', accuracy_on_training_data)\n",
    "\n",
    "        # prediction on test data\n",
    "        prediction_on_test_data = model.predict(X_test_features)\n",
    "        accuracy_on_test_data = accuracy_score(Y_test, prediction_on_test_data)\n",
    "        print('Accuracy on test data : ', accuracy_on_test_data)\n",
    "\n",
    "        print(\"Can you please some way remove all 'newlines' and make the message in just one line\")\n",
    "        email_message = input(\"Enter email message: \")\n",
    "        input_mail = []\n",
    "        input_mail.append(email_message)\n",
    "        # convert text to feature vectors\n",
    "        input_data_features = feature_extraction.transform(input_mail)\n",
    "\n",
    "        # making prediction\n",
    "        prediction = model.predict(input_data_features)\n",
    "\n",
    "        print(\"\\n\")\n",
    "        if (prediction[0] == 1):\n",
    "            print('Result: Ham mail')\n",
    "\n",
    "        else:\n",
    "            print('Result: Spam mail')\n",
    "\n",
    "    else:\n",
    "        print(\"Wrong format\")\n",
    "        print(\"Correct format is: py email_detect.py <method_name>\")\n",
    "        print(\"Example: py email_detect.py NB\")\n",
    "        print(\"There are two methods available: LR - LogisticRegression; NB - Naive Bayes\")"
   ]
  },
  {
   "cell_type": "code",
   "execution_count": 8,
   "metadata": {},
   "outputs": [
    {
     "name": "stdout",
     "output_type": "stream",
     "text": [
      "Wrong format\n",
      "Correct format is: py email_detect.py <method_name>\n",
      "Example: py email_detect.py NB\n",
      "There are two methods available: LR - LogisticRegression; NB - Naive Bayes\n"
     ]
    }
   ],
   "source": [
    "\n",
    "if __name__ == \"__main__\":\n",
    "    main(sys.argv[1:])\n"
   ]
  }
 ],
 "metadata": {
  "kernelspec": {
   "display_name": "env",
   "language": "python",
   "name": "python3"
  },
  "language_info": {
   "codemirror_mode": {
    "name": "ipython",
    "version": 3
   },
   "file_extension": ".py",
   "mimetype": "text/x-python",
   "name": "python",
   "nbconvert_exporter": "python",
   "pygments_lexer": "ipython3",
   "version": "3.12.3"
  }
 },
 "nbformat": 4,
 "nbformat_minor": 2
}
